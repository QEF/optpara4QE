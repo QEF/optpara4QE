{
 "metadata": {
  "orig_nbformat": 2,
  "kernelspec": {
   "name": "python3",
   "display_name": "Python 3.8.5 64-bit ('cov': venv)"
  },
  "metadata": {
   "interpreter": {
    "hash": "9b208f86970d65231288333de920490e7e9a7675fca62aaf34e195cdb7e23be6"
   }
  },
  "interpreter": {
   "hash": "9b208f86970d65231288333de920490e7e9a7675fca62aaf34e195cdb7e23be6"
  }
 },
 "nbformat": 4,
 "nbformat_minor": 2,
 "cells": [
  {
   "cell_type": "code",
   "execution_count": 7,
   "metadata": {},
   "outputs": [],
   "source": [
    "import numpy as np\n",
    "import json\n",
    "import read_cloks as rqe \n",
    "import glob "
   ]
  },
  {
   "cell_type": "code",
   "execution_count": 8,
   "metadata": {},
   "outputs": [],
   "source": [
    "def get_stuff(fname, algoname='davidson', other_info=None):\n",
    "    dims= rqe.read_dimensions(fname)\n",
    "    if dims is None:\n",
    "        return None\n",
    "    nk = rqe.read_nkpoints(fname)\n",
    "    if nk is None:\n",
    "        return None\n",
    "    dims.update({'nkpoints':nk})\n",
    "    para  = rqe.read_parallel(fname)\n",
    "    if para is None:\n",
    "        return None\n",
    "    try:\n",
    "        clocks = dict(rqe.read_clocks(fname))\n",
    "        iterations=  dict(rqe.read_iterations(fname))\n",
    "    except TypeError:\n",
    "        return None\n",
    "    raminfo = rqe.read_raminfo(fname)\n",
    "    data1 = {\"output\":fname, 'algo':algoname}\n",
    "    data1.update({'clocks':clocks}) \n",
    "    data1.update({'iter':iterations})\n",
    "    para\n",
    "    dims.update(para)\n",
    "    data1.update ({'dims':dims})\n",
    "    if other_info is not None:\n",
    "        data1.update(other_info) \n",
    "    if raminfo is not None:\n",
    "        data1.update({\"RAM\":raminfo})\n",
    "    return data1 \n"
   ]
  },
  {
   "cell_type": "code",
   "execution_count": 9,
   "metadata": {},
   "outputs": [
    {
     "output_type": "execute_result",
     "data": {
      "text/plain": [
       "0"
      ]
     },
     "metadata": {},
     "execution_count": 9
    }
   ],
   "source": [
    "other_info = {\n",
    "    \"CPU\":\"Intel Xeon 8160 CPU @ 2.10GHz\",\n",
    "    \"Node\":\"2*24-core\",\n",
    "    \"Memory\": \"192 GB DDR4 RAM\",\n",
    "    \"Net\": \"Intel OmniPath (100Gb/s) high-performance network\"\n",
    "}\n",
    "\n",
    "data=(get_stuff(name, other_info= other_info) for name in glob.glob('quartz_*/out*'))\n",
    "#\n",
    "data_quartz = [_ for _ in filter(None, data)]\n",
    "\n",
    "with open ('quarzi.json','w') as fw:\n",
    "    json.dump(data_quartz, fw, indent=2)\n",
    "len(data_quartz)"
   ]
  },
  {
   "cell_type": "code",
   "execution_count": 10,
   "metadata": {},
   "outputs": [],
   "source": [
    "\n",
    "from collections import deque\n",
    "d = deque(filter(lambda _: _['clocks']['electrons']>_['clocks']['PWSCF'], data_quartz))"
   ]
  },
  {
   "cell_type": "code",
   "execution_count": 11,
   "metadata": {},
   "outputs": [
    {
     "output_type": "execute_result",
     "data": {
      "text/plain": [
       "deque([])"
      ]
     },
     "metadata": {},
     "execution_count": 11
    }
   ],
   "source": [
    "d"
   ]
  },
  {
   "cell_type": "code",
   "execution_count": 12,
   "metadata": {},
   "outputs": [
    {
     "output_type": "error",
     "ename": "IndexError",
     "evalue": "list index out of range",
     "traceback": [
      "\u001b[0;31m---------------------------------------------------------------------------\u001b[0m",
      "\u001b[0;31mIndexError\u001b[0m                                Traceback (most recent call last)",
      "\u001b[0;32m<ipython-input-12-11b0dbf1743f>\u001b[0m in \u001b[0;36m<module>\u001b[0;34m\u001b[0m\n\u001b[0;32m----> 1\u001b[0;31m \u001b[0mdata_quartz\u001b[0m\u001b[0;34m[\u001b[0m\u001b[0;36m0\u001b[0m\u001b[0;34m]\u001b[0m\u001b[0;34m[\u001b[0m\u001b[0;34m'clocks'\u001b[0m\u001b[0;34m]\u001b[0m\u001b[0;34m[\u001b[0m\u001b[0;34m'PWSCF'\u001b[0m\u001b[0;34m]\u001b[0m\u001b[0;34m\u001b[0m\u001b[0;34m\u001b[0m\u001b[0m\n\u001b[0m",
      "\u001b[0;31mIndexError\u001b[0m: list index out of range"
     ]
    }
   ],
   "source": [
    "data_quartz[0]['clocks']['PWSCF']"
   ]
  },
  {
   "cell_type": "code",
   "execution_count": null,
   "metadata": {},
   "outputs": [],
   "source": []
  }
 ]
}
